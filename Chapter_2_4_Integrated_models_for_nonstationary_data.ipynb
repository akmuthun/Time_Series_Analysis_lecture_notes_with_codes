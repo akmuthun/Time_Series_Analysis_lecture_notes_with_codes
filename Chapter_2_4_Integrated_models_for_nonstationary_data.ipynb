{
 "cells": [
  {
   "cell_type": "markdown",
   "id": "628e536b",
   "metadata": {},
   "source": [
    "In many situations differencing converts nonstationary series to stationary.\n",
    "\n",
    "These nonstationary series can be thought of being composed of a nonstationary component and a zero-mean stationary component.\n",
    "\n",
    "Example: Random walk: \n",
    "\n",
    "$x_t=x_{t-1}+w_t\\implies \\nabla x_t = w_t$,\n",
    "\n",
    "\n",
    "$x_t=\\beta_0+\\beta_1 t+y_t\\implies \\nabla x_t=\\beta_1+\\nabla y_t$ where $y_t$ is stationary.\n",
    "\n",
    "\n",
    "The integrated ARMA , or ARIMA, model is a broading of the class of ARIMA models to include differencing."
   ]
  },
  {
   "cell_type": "markdown",
   "id": "f48dcc4a",
   "metadata": {},
   "source": [
    "## Definition (ARIMA(p,d,q))\n",
    "\n",
    "A process $x_t$ is said to be ARIMA(p,d,q) if the d times differenced series is ARMA(p,q)."
   ]
  },
  {
   "cell_type": "code",
   "execution_count": null,
   "id": "0310c701",
   "metadata": {},
   "outputs": [],
   "source": []
  }
 ],
 "metadata": {
  "kernelspec": {
   "display_name": "Python 3 (ipykernel)",
   "language": "python",
   "name": "python3"
  },
  "language_info": {
   "codemirror_mode": {
    "name": "ipython",
    "version": 3
   },
   "file_extension": ".py",
   "mimetype": "text/x-python",
   "name": "python",
   "nbconvert_exporter": "python",
   "pygments_lexer": "ipython3",
   "version": "3.10.6"
  }
 },
 "nbformat": 4,
 "nbformat_minor": 5
}
