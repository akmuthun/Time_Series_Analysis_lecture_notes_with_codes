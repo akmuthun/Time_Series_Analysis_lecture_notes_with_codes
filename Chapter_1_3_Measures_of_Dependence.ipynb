{
 "cells": [
  {
   "cell_type": "markdown",
   "metadata": {
    "id": "4LsHeFRBfvKV"
   },
   "source": [
    "## **Definition (The mean function)**\n",
    "\n",
    "$\\mu_{xt}=E(x_t)=\\int_{-\\infty}^{\\infty}xf_t(x)dx$\n",
    "\n",
    "where $f_t$ is the density function of the series $x$ at the time step $t$. (The precise definition of time series is omitted.)"
   ]
  },
  {
   "cell_type": "markdown",
   "metadata": {
    "id": "V1ZIUPNVhSXk"
   },
   "source": [
    "## Example: Mean function of a Moving Average Series\n",
    "\n",
    "For the white noise $\\mu_{wt}=E(w_t)=0$ for all $t$.\n",
    "\n",
    "For the series $v_t = \\frac{1}{3}(w_{t-1}+w_t+w_{t+1})$ $\\implies$ $\\mu_{vt}=E(v_t)=\\frac{1}{3}(E(w_{t-1})+E(w_t)+E(w_{t+1}))=0$."
   ]
  },
  {
   "cell_type": "markdown",
   "metadata": {
    "id": "jbPMP8WkjQE8"
   },
   "source": [
    "## Example: Mean function of a Random Walk with Drift.\n",
    "\n",
    "$x_t = \\delta t +\\sum_{j=1}^{t}w_j$ $\\implies$ $\\mu_{xt}=E(x_t)=\\delta t + \\sum_{j=1}^{t}E(w_j)=\\delta t$ line with slope $\\delta$."
   ]
  },
  {
   "cell_type": "markdown",
   "metadata": {
    "id": "7vKBS7uA6pAD"
   },
   "source": [
    "## Example: Mean function of a Signal Plus Noise\n",
    "$\\mu_{xt}=E(x_t)=E(2\\cos(2\\pi \\frac{t+15}{50})+w_t)=2\\cos(2\\pi \\frac{t+15}{50})$ is just the cosine wave."
   ]
  },
  {
   "cell_type": "markdown",
   "metadata": {
    "id": "WNMSzrBd7UGq"
   },
   "source": [
    "## The lack of independence between two values $x_t$ and $x_s$ can be quantified using covariance and correlation."
   ]
  },
  {
   "cell_type": "markdown",
   "metadata": {
    "id": "AirzyFr6zwGx"
   },
   "source": [
    "## **Definition (The autocovariance function)**\n",
    "\n",
    "$$\\gamma_x(s,t)=Cov(x_s,x_t)=E[(x_s-\\mu_s)(x_t-\\mu_t)]$$ for all time points $s$ and $t$.\n",
    "\n",
    "This measures the linear dependence of $x_t$ and $x_s$. \n",
    "\n",
    "$\\gamma_x=0$ does not imply independence. \n",
    "\n",
    "$x_t=x_s \\implies \\gamma_x(t,t)=E[(x_t-\\mu_t)^2]=Var(x_t)$\n",
    "\n",
    "\n",
    "## Example: Autocovariance of White Noise\n",
    "\n",
    "$E(w_t)=0$ for all $t$.\n",
    "\n",
    " \\begin{equation}\n",
    "\\gamma_x(s,t)=Cov(w_s,w_t) =\n",
    "   \\left\\{\\begin{array}{lr}\n",
    "       \\sigma_w^2; & s=t \\\\\n",
    "       0; & s\\neq t \n",
    "    \\end{array}\\right.\n",
    " \\end{equation}\n",
    "\n",
    " $Cov(w_s,w_t)=0$ for $s\\neq t$ since $w_t$ and $w_s$ are independent."
   ]
  },
  {
   "cell_type": "markdown",
   "metadata": {
    "id": "KWGmcXbcaU0B"
   },
   "source": [
    "## **Definition (Covariance of Linear Combinations)**\n",
    "\n",
    "Let $U=\\sum_{j=1}^{m}a_jX_j$ and $V=\\sum_{k=1}^{r}b_kY_k$ be two random variables.\n",
    "\n",
    "$$Cov(U,V)=\\sum_{j=1}^{m}\\sum_{k=1}^{r} a_jb_k Cov(X_j,Y_k)$$.\n",
    "\n",
    "This formula is used in the following example:\n",
    "\n",
    "## Example: Autocovarince of a Moving Average\n",
    "\n",
    "$\\gamma_v(s,t) = Cov(v_s,v_t)=Cov\\{\\frac{1}{3}(w_{s-1}+w_s+w_{s+1})+\\frac{1}{3}(w_{t-1}+w_t+w_{t+1})\\}$\n",
    "\n",
    "Recall: $w_t\\sim iidN(0,\\sigma_w)\\;\\;\\;$ ($w_t$ and $w_s$ are independent for $s\\neq t$ but $v_t$ and $v_s$ may not)\n",
    "\n",
    "When $s=t$ (no lag)\n",
    "\n",
    "$$\\gamma_v(t,t)=\\frac{1}{9}Cov\\{(w_{t-1}+w_t+w_{t+1}),(w_{t-1}+w_t+w_{t+1})\\}=\\frac{1}{9}[Cov(w_{t-1},w_{t-1})+Cov(w_t,w_t)+Cov(w_{t+1},w_{t+1})]=\\frac{3}{9}\\sigma_w^2.$$\n",
    "\n",
    "When $s=t+1$ (one step lag)\n",
    "\n",
    "$$\\gamma_v(t,s)=\\frac{1}{9}Cov\\{(w_{t}+w_{t+1}+w_{t+2}),(w_{t-1}+w_t+w_{t+1})\\}\n",
    "=\\frac{1}{9}[Cov(w_{t},w_{t})+Cov(w_{t+1},w_{t+1})]=\\frac{2}{9}\\sigma_w^2.\n",
    "$$\n",
    "\n",
    "Similarly, $$\\gamma_v(t-1,t)=\\frac{2}{9}\\sigma_w^2,\\;\\;\\; \\gamma_v(t+2,t)=\\gamma_v(t-2,t)=\\frac{1}{9}\\sigma_w^2.$$\n",
    "\n",
    "And $\\gamma_v(s,t)=0$ for $|t-s|>2$.\n",
    "\n",
    "In summary:\n",
    "\n",
    " \\begin{equation}\n",
    "\\gamma_v(s,t)=Cov(v_s,v_t) =\n",
    "   \\left\\{\\begin{array}{lr}\n",
    "       \\frac{3}{9}\\sigma_w^2; & s=t \\\\\n",
    "       \\frac{2}{9} \\sigma_w^2; & |s-t|=1 \\\\\n",
    "      \\frac{1}{9} \\sigma_w^2; & |s-t|=2 \\\\\n",
    "       0; & |s-t|>2\n",
    "    \\end{array}\\right.\n",
    " \\end{equation}\n",
    "\n",
    " In this casse, autocovariance only depends on lag (time separation) not on the absolute location of the points (Weak Stationarity). "
   ]
  },
  {
   "cell_type": "markdown",
   "metadata": {
    "id": "IY4jrqCUoCkv"
   },
   "source": [
    "## Example: Autocovarince of a Random Walk\n",
    "\n",
    "$x_t=\\sum_{j=1}^{t}w_j$,\n",
    "\n",
    "$$\\gamma_x(s,t)=Cov(x_s,x_t)=Cov(\\sum_{j=1}^{s}w_j,\\sum_{k=1}^{t}w_k)=\\min\\{s,t\\}\\sigma_w^2$$\n",
    "\n",
    "this autocovariance depends on $s$ and $t$ (absolute location of the time point)\n",
    "\n",
    "$Var(x_t)=\\gamma_x(t,t)=t\\sigma_w^2$ implies that variance increases as time increases so the process moves away from the mean function $\\delta t$ (see example 1.11 plot)."
   ]
  },
  {
   "cell_type": "markdown",
   "metadata": {
    "id": "pb2KtT3K5Gah"
   },
   "source": [
    "## **Definition (Autocorrelation function (ACF))**\n",
    "\n",
    "$$\\rho(s,t)=\\frac{\\gamma(s,t)}{\\sqrt{\\gamma(s,s)\\gamma(t,t)}}$$\n",
    "\n",
    "this measures the linear predictability of $x_t$ using the value $x_s$ (within a series). \n",
    "\n",
    "(perfect linear predictability if there exists constants $\\beta_0$ and $\\beta_1$ such that $x_t = \\beta_0+\\beta_1 x_s$).\n",
    "\n",
    "$-1\\leq \\rho\\leq 1$.\n",
    "\n",
    "\n"
   ]
  },
  {
   "cell_type": "markdown",
   "metadata": {
    "id": "RtXqH-4K8zhN"
   },
   "source": [
    "## Often we want to measure the predictability of a series $y_t$ using another series $x_s$. So we define cross-covariance and cross-correlation."
   ]
  },
  {
   "cell_type": "markdown",
   "metadata": {
    "id": "Xtgf7A0u9a4R"
   },
   "source": [
    "## **Definition (Cross-covariance function)** between two series $x_t$ and $y_t$ is\n",
    "\n",
    "$$\\gamma_{xy}(s,t)=Cov(x_s, y_t)=E[(x_s-\\mu_{xs})(t_t-\\mu_{yt})].$$\n",
    "\n",
    "## **Definition (corss-correlation function (CCF))** is\n",
    "\n",
    "$$\\rho_{xy}(s,t)=\\frac{\\gamma_{xy}(s,t)}{\\sqrt{\\gamma_{x}(s,s)\\gamma_{y}(t,t)}}.$$"
   ]
  },
  {
   "cell_type": "code",
   "execution_count": null,
   "metadata": {
    "id": "L4t0zZ78g-ER"
   },
   "outputs": [],
   "source": []
  }
 ],
 "metadata": {
  "colab": {
   "provenance": []
  },
  "kernelspec": {
   "display_name": "Python 3 (ipykernel)",
   "language": "python",
   "name": "python3"
  },
  "language_info": {
   "codemirror_mode": {
    "name": "ipython",
    "version": 3
   },
   "file_extension": ".py",
   "mimetype": "text/x-python",
   "name": "python",
   "nbconvert_exporter": "python",
   "pygments_lexer": "ipython3",
   "version": "3.10.6"
  }
 },
 "nbformat": 4,
 "nbformat_minor": 1
}
