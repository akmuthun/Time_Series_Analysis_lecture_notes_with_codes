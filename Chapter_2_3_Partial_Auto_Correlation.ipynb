{
 "cells": [
  {
   "cell_type": "markdown",
   "id": "77eddd9a",
   "metadata": {},
   "source": [
    "## Partial Autocorrelation Function (PACF)\n",
    "\n",
    "PACF of an stationary series $x_t$ is the correlation of the series at two time points, say $x_s$ and $x_t$ when the linear dependence of the middle terms is removed.\n",
    "\n",
    "### PACF of a mean-zero stationary process, $x_t$ is \n",
    "$$\\phi_{1,1}=Corr(x_{t+1}, x_{t})=\\rho(1)$$\n",
    "\n",
    "and for $h\\geq 2$\n",
    "\n",
    "$$\\phi_{hh}=Corr(x_{t+h}-\\hat{x}_{t+h}, x_t-\\hat{x}_t)$$\n",
    "\n",
    "where $\\hat{x}_{t+h}=\\beta_1 x_{t+h-1}+\\beta_2 x_{t+h-2}+...+\\beta_{h-1} x_{t+1}$ and $\\hat{x}_{t}=\\beta_1 x_{t+1}+\\beta_2 x_{t+2}+...+\\beta_{h-1} x_{t+h-1}$ are linear regressions.\n",
    "\n",
    "Because of stationarity, the coefficients, $\\beta_1, \\beta_2,...,\\beta_{h-1}$ is the same in both the last two equations."
   ]
  },
  {
   "cell_type": "markdown",
   "id": "74d88e20",
   "metadata": {},
   "source": [
    "## Example: The PACF of an AR(1)\n",
    "\n",
    "Let $x_t=\\phi x_{t-1}+w_t$, with $|\\phi|<1$. \n",
    "\n",
    "In the previous section we stated that for this model $\\rho(h)=\\phi^h$ for $h=1,2,..$.\n",
    "Hence $\\phi_{1,1}=\\rho(1)=\\phi$.\n",
    "\n",
    "To calculate $\\phi_{2,2}$, consider the regression $\\hat{x}_{t+2}=\\beta x_{t+1}$.\n",
    "We should find the $\\beta$ which minimizes\n",
    "\n",
    "\\begin{equation}\n",
    "\\begin{split}\n",
    "E((x_{t+2}-\\hat{x}_{t+2})^2) &= E(x^2_{t+2}-2\\beta x_{t+2}x_{t+1}+\\beta^2 x^2_{t+1})\\\\\n",
    "&=E(x^2_{x+2})-2\\beta E(x_{t+2} x_{t+1})+\\beta^2 E(x^2_{t+1})\\\\\n",
    "& = Var(x_{t+2})+E^2(x_{t+2})-2\\beta Cov(x_{t+2}, x_{t+1})+\\beta^2 Var(x_{t+1});\\\\ \\text{note that } Cov(x_{t+2}, x_{t+1})=E((x_{t+2}-E(x_{t+2}))(x_{t+1}-E(x_{t+1})))= E(x_{t+2}x_{t+1})\\\\\n",
    "& = \\gamma(0)-2\\beta \\gamma(1) + \\beta^2 \\gamma(0) = f(\\beta) \\text{ say}\n",
    "\\end{split} \n",
    "\\end{equation}\n",
    "\n",
    "\n",
    "\n",
    "\n",
    "\n"
   ]
  },
  {
   "cell_type": "code",
   "execution_count": null,
   "id": "e78091c9",
   "metadata": {},
   "outputs": [],
   "source": []
  }
 ],
 "metadata": {
  "kernelspec": {
   "display_name": "Python 3 (ipykernel)",
   "language": "python",
   "name": "python3"
  },
  "language_info": {
   "codemirror_mode": {
    "name": "ipython",
    "version": 3
   },
   "file_extension": ".py",
   "mimetype": "text/x-python",
   "name": "python",
   "nbconvert_exporter": "python",
   "pygments_lexer": "ipython3",
   "version": "3.10.6"
  }
 },
 "nbformat": 4,
 "nbformat_minor": 5
}
