{
  "nbformat": 4,
  "nbformat_minor": 0,
  "metadata": {
    "colab": {
      "provenance": []
    },
    "kernelspec": {
      "name": "python3",
      "display_name": "Python 3"
    },
    "language_info": {
      "name": "python"
    }
  },
  "cells": [
    {
      "cell_type": "markdown",
      "source": [
        "## **Definition: A series $x_t$ is stationary (weakly)** if\n",
        "\n",
        "**(i)** mean value function $\\mu_t$ is constant (does not depend on $t$)\n",
        "\n",
        "and\n",
        "\n",
        "**(ii)** autocovariance function $\\gamma(s,t)$ depends only on $|s-t|$. ($\\implies \\gamma(t,t)=\\gamma(s,s)=\\gamma(0,0)=\\text{constant}$).\n",
        "\n",
        "\n",
        "\n",
        "\n",
        "\n",
        "\n",
        "## Autocorrelation function (ACF) of a stationary time series can be written as\n",
        "\n",
        "$$\\rho(h)=\\frac{\\gamma(t+h,t)}{\\sqrt{\\gamma(t+h,t+h)\\gamma(t,t)}}=\\frac{\\gamma(h)}{\\gamma(0)}$$"
      ],
      "metadata": {
        "id": "hTHylgDV_cr0"
      }
    },
    {
      "cell_type": "markdown",
      "source": [
        " ## Examples of stationary time series \n",
        "\n",
        "1) White Noise\n",
        "\n",
        "$\\mu_{wt}=0$ for all $t$ and  \\begin{equation}\n",
        "\\gamma_w(h)=Cov(w_{t+h},w_t) =\n",
        "   \\left\\{\\begin{array}{lr}\n",
        "       \\sigma_w^2; & h=0 \\\\\n",
        "       0; & h\\neq 0 \n",
        "    \\end{array}\\right.\n",
        " \\end{equation} \n",
        "\n",
        "\n",
        " Note: $\\gamma(0)=Cov(w_t,w_t)=E((w_t-\\mu_w)(w_t-\\mu_w))=E(w_t^2)=Var(w_t)$ since $E(w_t)=\\mu_w=0$.\n",
        "\n",
        " Note: $\\gamma(t+h,t)=Cov(w_{t+h},w_t)=0$ since $w_{t+h}$ and $w_t$ are independent for $h\\neq 0$.\n",
        "\n",
        "\n",
        " 2) Moving average (using white noise)\n",
        "\n",
        "$v_t = \\frac{1}{3}(w_{t-1}+w_t+w_{t+1})$\n",
        "\n",
        "For this series $\\mu_{vt}=0$ and \n",
        "\n",
        "\n",
        " \\begin{equation}\n",
        "\\gamma_v(h)=Cov(v_{t+h},v_t) =\n",
        "   \\left\\{\\begin{array}{lr}\n",
        "       \\frac{3}{9}\\sigma_w^2; & h=0 \\\\\n",
        "       \\frac{2}{9} \\sigma_w^2; & |h|=1 \\\\\n",
        "      \\frac{1}{9} \\sigma_w^2; & |h|=2 \\\\\n",
        "       0; & |h|>2\n",
        "    \\end{array}\\right.\n",
        " \\end{equation}\n",
        "\n",
        "And the autocorrelation function (ACF) is \n",
        "\n",
        "\n",
        " \\begin{equation}\n",
        "\\rho_v(h) = \\frac{\\gamma(h)}{\\gamma(0)}=\n",
        "   \\left\\{\\begin{array}{lr}\n",
        "       1; & h=0 \\\\\n",
        "       \\frac{2}{3}; & |h|=1 \\\\\n",
        "      \\frac{1}{3}; & |h|=2 \\\\\n",
        "       0; & |h|>2\n",
        "    \\end{array}\\right.\n",
        " \\end{equation}\n",
        "\n",
        "Note that ACF is symmetric about 0 (see plot below)."
      ],
      "metadata": {
        "id": "jZ4-X6giSu7G"
      }
    },
    {
      "cell_type": "code",
      "execution_count": 39,
      "metadata": {
        "colab": {
          "base_uri": "https://localhost:8080/",
          "height": 279
        },
        "id": "PeYdFJDe_Xin",
        "outputId": "e8f3386a-5d24-439e-d299-655cac685b28"
      },
      "outputs": [
        {
          "output_type": "display_data",
          "data": {
            "text/plain": [
              "<Figure size 576x288 with 1 Axes>"
            ],
            "image/png": "[encoded data removed]"
          },
          "metadata": {
            "needs_background": "light"
          }
        }
      ],
      "source": [
        "import matplotlib.pyplot as plt\n",
        "import numpy as np\n",
        "lag = np.arange(-5,6,1)\n",
        "ACF = [0.01,0.01,0.01,1/3,2/3,1] #0.01 is for plotting purpose only. Actual value should be 0\n",
        "ACF  = ACF  + list(reversed(ACF))\n",
        "ACF.remove(1)\n",
        "plt.figure(figsize=(8,4))\n",
        "plt.vlines(lag, ACF, ymax = 0.0001, linewidth=3)\n",
        "plt.xlabel('LAG')\n",
        "plt.ylabel(\"ACF\")\n",
        "plt.show()"
      ]
    },
    {
      "cell_type": "markdown",
      "source": [
        "## Also for any stationary series $|\\gamma(h)|\\leq \\gamma(0)$"
      ],
      "metadata": {
        "id": "ThpcsKuTnGcl"
      }
    },
    {
      "cell_type": "markdown",
      "source": [
        "## A Random Walk is Not Stationary\n",
        "\n",
        "$\\gamma(s,t)=\\min\\{s,t\\}\\sigma_w^2$ (depends on time point) and $\\mu_{xt}=\\delta t$ so a Random Walk is not stationary."
      ],
      "metadata": {
        "id": "tpc4GvkkkdJx"
      }
    },
    {
      "cell_type": "code",
      "source": [],
      "metadata": {
        "id": "B-LW4UgMaT_I"
      },
      "execution_count": null,
      "outputs": []
    }
  ]
}